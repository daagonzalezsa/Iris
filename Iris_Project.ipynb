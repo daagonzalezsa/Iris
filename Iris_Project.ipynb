{
 "cells": [
  {
   "cell_type": "code",
   "execution_count": 2,
   "metadata": {},
   "outputs": [
    {
     "name": "stdout",
     "output_type": "stream",
     "text": [
      "Requirement already satisfied: ucimlrepo in c:\\users\\daniel gonzalez\\appdata\\local\\programs\\python\\python311\\lib\\site-packages (0.0.3)\n",
      "Note: you may need to restart the kernel to use updated packages.\n"
     ]
    }
   ],
   "source": [
    "pip install ucimlrepo"
   ]
  },
  {
   "cell_type": "markdown",
   "metadata": {},
   "source": [
    "<h1> <center> <strong> Iris Project </strong> </center> </h1>\n",
    "This is a project related to study and developed an analysis to the database <a href=\"https://archive.ics.uci.edu/dataset/53/iris\"> Iris </a>. The objetive is do a descriptive analysis, and after this, do a implementation of different statistical models and machine learning models to predict the category of the plant.\n",
    "\n",
    "To load the database, first we install the <i> ucimlrepo </i> package. To install, we use the command\n",
    "<center> pip install ucimlrepo </center>\n",
    "After this, we load the some libraries requeried to the project.\n",
    "\n",
    "<h2> <center> <strong> Libraries </strong> </center> </h2>\n",
    "<ol>\n",
    "<li> <strong> Pandas </strong>: This library is implemented to the load, clean and analysis of the data.\n",
    "<li> <strong> Numpy </strong>: This library is implemented to do calculus related to quantitative variables.\n",
    "<li> <strong> Matplotlib.pyplot </strong>: This is used to do graphics related to the data. "
   ]
  },
  {
   "cell_type": "code",
   "execution_count": 3,
   "metadata": {},
   "outputs": [],
   "source": [
    "import pandas as pd\n",
    "import numpy as np\n",
    "import matplotlib.pyplot as plt\n",
    "import ucimlrepo"
   ]
  },
  {
   "cell_type": "markdown",
   "metadata": {},
   "source": [
    "After load the libraries to work, we load the database of iris:"
   ]
  },
  {
   "cell_type": "code",
   "execution_count": 9,
   "metadata": {},
   "outputs": [
    {
     "data": {
      "text/html": [
       "<div>\n",
       "<style scoped>\n",
       "    .dataframe tbody tr th:only-of-type {\n",
       "        vertical-align: middle;\n",
       "    }\n",
       "\n",
       "    .dataframe tbody tr th {\n",
       "        vertical-align: top;\n",
       "    }\n",
       "\n",
       "    .dataframe thead th {\n",
       "        text-align: right;\n",
       "    }\n",
       "</style>\n",
       "<table border=\"1\" class=\"dataframe\">\n",
       "  <thead>\n",
       "    <tr style=\"text-align: right;\">\n",
       "      <th></th>\n",
       "      <th>Category</th>\n",
       "      <th>mean_sepal_length</th>\n",
       "      <th>mean_sepal_width</th>\n",
       "      <th>mean_petal_length</th>\n",
       "      <th>mean_petal_width</th>\n",
       "      <th>quantity</th>\n",
       "    </tr>\n",
       "  </thead>\n",
       "  <tbody>\n",
       "    <tr>\n",
       "      <th>0</th>\n",
       "      <td>Iris-setosa</td>\n",
       "      <td>5.006</td>\n",
       "      <td>3.418</td>\n",
       "      <td>1.464</td>\n",
       "      <td>3.418</td>\n",
       "      <td>50</td>\n",
       "    </tr>\n",
       "    <tr>\n",
       "      <th>1</th>\n",
       "      <td>Iris-versicolor</td>\n",
       "      <td>5.936</td>\n",
       "      <td>2.770</td>\n",
       "      <td>4.260</td>\n",
       "      <td>2.770</td>\n",
       "      <td>50</td>\n",
       "    </tr>\n",
       "    <tr>\n",
       "      <th>2</th>\n",
       "      <td>Iris-virginica</td>\n",
       "      <td>6.588</td>\n",
       "      <td>2.974</td>\n",
       "      <td>5.552</td>\n",
       "      <td>2.974</td>\n",
       "      <td>50</td>\n",
       "    </tr>\n",
       "  </tbody>\n",
       "</table>\n",
       "</div>"
      ],
      "text/plain": [
       "          Category  mean_sepal_length  mean_sepal_width  mean_petal_length  \\\n",
       "0      Iris-setosa              5.006             3.418              1.464   \n",
       "1  Iris-versicolor              5.936             2.770              4.260   \n",
       "2   Iris-virginica              6.588             2.974              5.552   \n",
       "\n",
       "   mean_petal_width  quantity  \n",
       "0             3.418        50  \n",
       "1             2.770        50  \n",
       "2             2.974        50  "
      ]
     },
     "execution_count": 9,
     "metadata": {},
     "output_type": "execute_result"
    }
   ],
   "source": [
    "df = pd.DataFrame(ucimlrepo.fetch_ucirepo(id=53)[\"data\"][\"features\"])\n",
    "df[\"Category\"] = pd.DataFrame(ucimlrepo.fetch_ucirepo(id=53)[\"data\"][\"targets\"])\n",
    "(df.\n",
    "groupby(\"Category\").\n",
    "agg(\n",
    "    mean_sepal_length = (\"sepal length\", \"mean\"),\n",
    "    mean_sepal_width = (\"sepal width\", \"mean\"),\n",
    "    mean_petal_length = (\"petal length\", \"mean\"),\n",
    "    mean_petal_width = (\"sepal width\", \"mean\"),\n",
    "    quantity = (\"Category\", \"size\")\n",
    ").reset_index()\n",
    ")"
   ]
  },
  {
   "cell_type": "code",
   "execution_count": null,
   "metadata": {},
   "outputs": [],
   "source": []
  }
 ],
 "metadata": {
  "kernelspec": {
   "display_name": "Python 3",
   "language": "python",
   "name": "python3"
  },
  "language_info": {
   "codemirror_mode": {
    "name": "ipython",
    "version": 3
   },
   "file_extension": ".py",
   "mimetype": "text/x-python",
   "name": "python",
   "nbconvert_exporter": "python",
   "pygments_lexer": "ipython3",
   "version": "3.11.2"
  }
 },
 "nbformat": 4,
 "nbformat_minor": 2
}
